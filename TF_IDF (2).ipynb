{
  "nbformat": 4,
  "nbformat_minor": 0,
  "metadata": {
    "colab": {
      "provenance": []
    },
    "kernelspec": {
      "name": "python3",
      "display_name": "Python 3"
    },
    "language_info": {
      "name": "python"
    }
  },
  "cells": [
    {
      "cell_type": "code",
      "execution_count": null,
      "metadata": {
        "id": "7z8Ud-TcyGVP"
      },
      "outputs": [],
      "source": [
        "import pandas as pd\n",
        "from sklearn.feature_extraction.text import TfidfVectorizer\n",
        "import numpy as np\n",
        "from sklearn.metrics.pairwise import cosine_similarity"
      ]
    },
    {
      "cell_type": "markdown",
      "source": [
        "What is TF-IDF:\n",
        "\n",
        "TF (Term freq): a measure of how frequently a term occurs in a doc. Given a term t in a given document. The number of times t occurs is divided by the total number of terms in that document.\n",
        "\n",
        "IDF (Inverse document freq): A \"measure\" of how important a given term is in a corpus. It's calculated based on log of number of documents divided by the the number of documents that contain t.\n",
        "\n",
        "\n",
        "\n",
        "\n",
        "\n",
        "TF-IDF = TF * IDF\n",
        "- The length/size of the vector is == to the size of the learned vocab\n",
        "(if all your documents contains a total of 50 unique words, the vector is going to have 50D)\n",
        "- If a term is not present then TDIDF score is zero\n",
        "'''"
      ],
      "metadata": {
        "id": "kurXxuUfOFoo"
      }
    },
    {
      "cell_type": "code",
      "source": [
        "with open('News.CSV', 'r') as file:\n",
        "  # check what the delimiter is for our CSV file, in this case, columns are separated by a \";\"\n",
        "    for _ in range(5):  # Read the first 5 lines\n",
        "        line = file.readline()\n",
        "        print(line)"
      ],
      "metadata": {
        "colab": {
          "base_uri": "https://localhost:8080/"
        },
        "id": "CYUQslYqq4oZ",
        "outputId": "5bd0f471-d77a-43c0-a992-766e9b0d7aef"
      },
      "execution_count": null,
      "outputs": [
        {
          "output_type": "stream",
          "name": "stdout",
          "text": [
            "topic;link;domain;published_date;title;lang\n",
            "\n",
            "SCIENCE;https://www.eurekalert.org/pub_releases/2020-08/dbnl-acl080620.php;eurekalert.org;2020-08-06 13:59:45;A closer look at water-splitting's solar fuel potential;en\n",
            "\n",
            "SCIENCE;https://www.pulse.ng/news/world/an-irresistible-scent-makes-locusts-swarm-study-finds/jy784jw;pulse.ng;2020-08-12 15:14:19;An irresistible scent makes locusts swarm, study finds;en\n",
            "\n",
            "SCIENCE;https://www.express.co.uk/news/science/1322607/artificial-intelligence-warning-machine-learning-algorithm-social-media-data;express.co.uk;2020-08-13 21:01:00;Artificial intelligence warning: AI will know us better than we know ourselves;en\n",
            "\n",
            "SCIENCE;https://www.ndtv.com/world-news/glaciers-could-have-sculpted-mars-valleys-study-2273648;ndtv.com;2020-08-03 22:18:26;Glaciers Could Have Sculpted Mars Valleys: Study;en\n",
            "\n"
          ]
        }
      ]
    },
    {
      "cell_type": "code",
      "source": [
        "# Now we train the TFIDF model on a larger and real life dataset.\n",
        "\n",
        "news_df = pd.read_csv(\"News.CSV\",sep=\";\", encoding=\"utf-8\")\n",
        "news_df.head()"
      ],
      "metadata": {
        "id": "qfrKw8372f5K",
        "colab": {
          "base_uri": "https://localhost:8080/",
          "height": 206
        },
        "outputId": "890cd286-b128-4823-ab06-5a17e721e532"
      },
      "execution_count": null,
      "outputs": [
        {
          "output_type": "execute_result",
          "data": {
            "text/plain": [
              "     topic                                               link          domain  \\\n",
              "0  SCIENCE  https://www.eurekalert.org/pub_releases/2020-0...  eurekalert.org   \n",
              "1  SCIENCE  https://www.pulse.ng/news/world/an-irresistibl...        pulse.ng   \n",
              "2  SCIENCE  https://www.express.co.uk/news/science/1322607...   express.co.uk   \n",
              "3  SCIENCE  https://www.ndtv.com/world-news/glaciers-could...        ndtv.com   \n",
              "4  SCIENCE  https://www.thesun.ie/tech/5742187/perseid-met...       thesun.ie   \n",
              "\n",
              "        published_date                                              title lang  \n",
              "0  2020-08-06 13:59:45  A closer look at water-splitting's solar fuel ...   en  \n",
              "1  2020-08-12 15:14:19  An irresistible scent makes locusts swarm, stu...   en  \n",
              "2  2020-08-13 21:01:00  Artificial intelligence warning: AI will know ...   en  \n",
              "3  2020-08-03 22:18:26   Glaciers Could Have Sculpted Mars Valleys: Study   en  \n",
              "4  2020-08-12 19:54:36  Perseid meteor shower 2020: What time and how ...   en  "
            ],
            "text/html": [
              "\n",
              "  <div id=\"df-b873f204-7b5d-46af-9622-0fc897f559ab\" class=\"colab-df-container\">\n",
              "    <div>\n",
              "<style scoped>\n",
              "    .dataframe tbody tr th:only-of-type {\n",
              "        vertical-align: middle;\n",
              "    }\n",
              "\n",
              "    .dataframe tbody tr th {\n",
              "        vertical-align: top;\n",
              "    }\n",
              "\n",
              "    .dataframe thead th {\n",
              "        text-align: right;\n",
              "    }\n",
              "</style>\n",
              "<table border=\"1\" class=\"dataframe\">\n",
              "  <thead>\n",
              "    <tr style=\"text-align: right;\">\n",
              "      <th></th>\n",
              "      <th>topic</th>\n",
              "      <th>link</th>\n",
              "      <th>domain</th>\n",
              "      <th>published_date</th>\n",
              "      <th>title</th>\n",
              "      <th>lang</th>\n",
              "    </tr>\n",
              "  </thead>\n",
              "  <tbody>\n",
              "    <tr>\n",
              "      <th>0</th>\n",
              "      <td>SCIENCE</td>\n",
              "      <td>https://www.eurekalert.org/pub_releases/2020-0...</td>\n",
              "      <td>eurekalert.org</td>\n",
              "      <td>2020-08-06 13:59:45</td>\n",
              "      <td>A closer look at water-splitting's solar fuel ...</td>\n",
              "      <td>en</td>\n",
              "    </tr>\n",
              "    <tr>\n",
              "      <th>1</th>\n",
              "      <td>SCIENCE</td>\n",
              "      <td>https://www.pulse.ng/news/world/an-irresistibl...</td>\n",
              "      <td>pulse.ng</td>\n",
              "      <td>2020-08-12 15:14:19</td>\n",
              "      <td>An irresistible scent makes locusts swarm, stu...</td>\n",
              "      <td>en</td>\n",
              "    </tr>\n",
              "    <tr>\n",
              "      <th>2</th>\n",
              "      <td>SCIENCE</td>\n",
              "      <td>https://www.express.co.uk/news/science/1322607...</td>\n",
              "      <td>express.co.uk</td>\n",
              "      <td>2020-08-13 21:01:00</td>\n",
              "      <td>Artificial intelligence warning: AI will know ...</td>\n",
              "      <td>en</td>\n",
              "    </tr>\n",
              "    <tr>\n",
              "      <th>3</th>\n",
              "      <td>SCIENCE</td>\n",
              "      <td>https://www.ndtv.com/world-news/glaciers-could...</td>\n",
              "      <td>ndtv.com</td>\n",
              "      <td>2020-08-03 22:18:26</td>\n",
              "      <td>Glaciers Could Have Sculpted Mars Valleys: Study</td>\n",
              "      <td>en</td>\n",
              "    </tr>\n",
              "    <tr>\n",
              "      <th>4</th>\n",
              "      <td>SCIENCE</td>\n",
              "      <td>https://www.thesun.ie/tech/5742187/perseid-met...</td>\n",
              "      <td>thesun.ie</td>\n",
              "      <td>2020-08-12 19:54:36</td>\n",
              "      <td>Perseid meteor shower 2020: What time and how ...</td>\n",
              "      <td>en</td>\n",
              "    </tr>\n",
              "  </tbody>\n",
              "</table>\n",
              "</div>\n",
              "    <div class=\"colab-df-buttons\">\n",
              "\n",
              "  <div class=\"colab-df-container\">\n",
              "    <button class=\"colab-df-convert\" onclick=\"convertToInteractive('df-b873f204-7b5d-46af-9622-0fc897f559ab')\"\n",
              "            title=\"Convert this dataframe to an interactive table.\"\n",
              "            style=\"display:none;\">\n",
              "\n",
              "  <svg xmlns=\"http://www.w3.org/2000/svg\" height=\"24px\" viewBox=\"0 -960 960 960\">\n",
              "    <path d=\"M120-120v-720h720v720H120Zm60-500h600v-160H180v160Zm220 220h160v-160H400v160Zm0 220h160v-160H400v160ZM180-400h160v-160H180v160Zm440 0h160v-160H620v160ZM180-180h160v-160H180v160Zm440 0h160v-160H620v160Z\"/>\n",
              "  </svg>\n",
              "    </button>\n",
              "\n",
              "  <style>\n",
              "    .colab-df-container {\n",
              "      display:flex;\n",
              "      gap: 12px;\n",
              "    }\n",
              "\n",
              "    .colab-df-convert {\n",
              "      background-color: #E8F0FE;\n",
              "      border: none;\n",
              "      border-radius: 50%;\n",
              "      cursor: pointer;\n",
              "      display: none;\n",
              "      fill: #1967D2;\n",
              "      height: 32px;\n",
              "      padding: 0 0 0 0;\n",
              "      width: 32px;\n",
              "    }\n",
              "\n",
              "    .colab-df-convert:hover {\n",
              "      background-color: #E2EBFA;\n",
              "      box-shadow: 0px 1px 2px rgba(60, 64, 67, 0.3), 0px 1px 3px 1px rgba(60, 64, 67, 0.15);\n",
              "      fill: #174EA6;\n",
              "    }\n",
              "\n",
              "    .colab-df-buttons div {\n",
              "      margin-bottom: 4px;\n",
              "    }\n",
              "\n",
              "    [theme=dark] .colab-df-convert {\n",
              "      background-color: #3B4455;\n",
              "      fill: #D2E3FC;\n",
              "    }\n",
              "\n",
              "    [theme=dark] .colab-df-convert:hover {\n",
              "      background-color: #434B5C;\n",
              "      box-shadow: 0px 1px 3px 1px rgba(0, 0, 0, 0.15);\n",
              "      filter: drop-shadow(0px 1px 2px rgba(0, 0, 0, 0.3));\n",
              "      fill: #FFFFFF;\n",
              "    }\n",
              "  </style>\n",
              "\n",
              "    <script>\n",
              "      const buttonEl =\n",
              "        document.querySelector('#df-b873f204-7b5d-46af-9622-0fc897f559ab button.colab-df-convert');\n",
              "      buttonEl.style.display =\n",
              "        google.colab.kernel.accessAllowed ? 'block' : 'none';\n",
              "\n",
              "      async function convertToInteractive(key) {\n",
              "        const element = document.querySelector('#df-b873f204-7b5d-46af-9622-0fc897f559ab');\n",
              "        const dataTable =\n",
              "          await google.colab.kernel.invokeFunction('convertToInteractive',\n",
              "                                                    [key], {});\n",
              "        if (!dataTable) return;\n",
              "\n",
              "        const docLinkHtml = 'Like what you see? Visit the ' +\n",
              "          '<a target=\"_blank\" href=https://colab.research.google.com/notebooks/data_table.ipynb>data table notebook</a>'\n",
              "          + ' to learn more about interactive tables.';\n",
              "        element.innerHTML = '';\n",
              "        dataTable['output_type'] = 'display_data';\n",
              "        await google.colab.output.renderOutput(dataTable, element);\n",
              "        const docLink = document.createElement('div');\n",
              "        docLink.innerHTML = docLinkHtml;\n",
              "        element.appendChild(docLink);\n",
              "      }\n",
              "    </script>\n",
              "  </div>\n",
              "\n",
              "\n",
              "<div id=\"df-d97c707b-ce53-4ca8-b85b-53785a6492bf\">\n",
              "  <button class=\"colab-df-quickchart\" onclick=\"quickchart('df-d97c707b-ce53-4ca8-b85b-53785a6492bf')\"\n",
              "            title=\"Suggest charts\"\n",
              "            style=\"display:none;\">\n",
              "\n",
              "<svg xmlns=\"http://www.w3.org/2000/svg\" height=\"24px\"viewBox=\"0 0 24 24\"\n",
              "     width=\"24px\">\n",
              "    <g>\n",
              "        <path d=\"M19 3H5c-1.1 0-2 .9-2 2v14c0 1.1.9 2 2 2h14c1.1 0 2-.9 2-2V5c0-1.1-.9-2-2-2zM9 17H7v-7h2v7zm4 0h-2V7h2v10zm4 0h-2v-4h2v4z\"/>\n",
              "    </g>\n",
              "</svg>\n",
              "  </button>\n",
              "\n",
              "<style>\n",
              "  .colab-df-quickchart {\n",
              "      --bg-color: #E8F0FE;\n",
              "      --fill-color: #1967D2;\n",
              "      --hover-bg-color: #E2EBFA;\n",
              "      --hover-fill-color: #174EA6;\n",
              "      --disabled-fill-color: #AAA;\n",
              "      --disabled-bg-color: #DDD;\n",
              "  }\n",
              "\n",
              "  [theme=dark] .colab-df-quickchart {\n",
              "      --bg-color: #3B4455;\n",
              "      --fill-color: #D2E3FC;\n",
              "      --hover-bg-color: #434B5C;\n",
              "      --hover-fill-color: #FFFFFF;\n",
              "      --disabled-bg-color: #3B4455;\n",
              "      --disabled-fill-color: #666;\n",
              "  }\n",
              "\n",
              "  .colab-df-quickchart {\n",
              "    background-color: var(--bg-color);\n",
              "    border: none;\n",
              "    border-radius: 50%;\n",
              "    cursor: pointer;\n",
              "    display: none;\n",
              "    fill: var(--fill-color);\n",
              "    height: 32px;\n",
              "    padding: 0;\n",
              "    width: 32px;\n",
              "  }\n",
              "\n",
              "  .colab-df-quickchart:hover {\n",
              "    background-color: var(--hover-bg-color);\n",
              "    box-shadow: 0 1px 2px rgba(60, 64, 67, 0.3), 0 1px 3px 1px rgba(60, 64, 67, 0.15);\n",
              "    fill: var(--button-hover-fill-color);\n",
              "  }\n",
              "\n",
              "  .colab-df-quickchart-complete:disabled,\n",
              "  .colab-df-quickchart-complete:disabled:hover {\n",
              "    background-color: var(--disabled-bg-color);\n",
              "    fill: var(--disabled-fill-color);\n",
              "    box-shadow: none;\n",
              "  }\n",
              "\n",
              "  .colab-df-spinner {\n",
              "    border: 2px solid var(--fill-color);\n",
              "    border-color: transparent;\n",
              "    border-bottom-color: var(--fill-color);\n",
              "    animation:\n",
              "      spin 1s steps(1) infinite;\n",
              "  }\n",
              "\n",
              "  @keyframes spin {\n",
              "    0% {\n",
              "      border-color: transparent;\n",
              "      border-bottom-color: var(--fill-color);\n",
              "      border-left-color: var(--fill-color);\n",
              "    }\n",
              "    20% {\n",
              "      border-color: transparent;\n",
              "      border-left-color: var(--fill-color);\n",
              "      border-top-color: var(--fill-color);\n",
              "    }\n",
              "    30% {\n",
              "      border-color: transparent;\n",
              "      border-left-color: var(--fill-color);\n",
              "      border-top-color: var(--fill-color);\n",
              "      border-right-color: var(--fill-color);\n",
              "    }\n",
              "    40% {\n",
              "      border-color: transparent;\n",
              "      border-right-color: var(--fill-color);\n",
              "      border-top-color: var(--fill-color);\n",
              "    }\n",
              "    60% {\n",
              "      border-color: transparent;\n",
              "      border-right-color: var(--fill-color);\n",
              "    }\n",
              "    80% {\n",
              "      border-color: transparent;\n",
              "      border-right-color: var(--fill-color);\n",
              "      border-bottom-color: var(--fill-color);\n",
              "    }\n",
              "    90% {\n",
              "      border-color: transparent;\n",
              "      border-bottom-color: var(--fill-color);\n",
              "    }\n",
              "  }\n",
              "</style>\n",
              "\n",
              "  <script>\n",
              "    async function quickchart(key) {\n",
              "      const quickchartButtonEl =\n",
              "        document.querySelector('#' + key + ' button');\n",
              "      quickchartButtonEl.disabled = true;  // To prevent multiple clicks.\n",
              "      quickchartButtonEl.classList.add('colab-df-spinner');\n",
              "      try {\n",
              "        const charts = await google.colab.kernel.invokeFunction(\n",
              "            'suggestCharts', [key], {});\n",
              "      } catch (error) {\n",
              "        console.error('Error during call to suggestCharts:', error);\n",
              "      }\n",
              "      quickchartButtonEl.classList.remove('colab-df-spinner');\n",
              "      quickchartButtonEl.classList.add('colab-df-quickchart-complete');\n",
              "    }\n",
              "    (() => {\n",
              "      let quickchartButtonEl =\n",
              "        document.querySelector('#df-d97c707b-ce53-4ca8-b85b-53785a6492bf button');\n",
              "      quickchartButtonEl.style.display =\n",
              "        google.colab.kernel.accessAllowed ? 'block' : 'none';\n",
              "    })();\n",
              "  </script>\n",
              "</div>\n",
              "    </div>\n",
              "  </div>\n"
            ]
          },
          "metadata": {},
          "execution_count": 12
        }
      ]
    },
    {
      "cell_type": "code",
      "source": [
        "news_df.shape"
      ],
      "metadata": {
        "colab": {
          "base_uri": "https://localhost:8080/"
        },
        "id": "J4WvAR8B3Xzd",
        "outputId": "3f642731-50bb-4e40-aeab-7a127ef5718c"
      },
      "execution_count": null,
      "outputs": [
        {
          "output_type": "execute_result",
          "data": {
            "text/plain": [
              "(108774, 6)"
            ]
          },
          "metadata": {},
          "execution_count": 13
        }
      ]
    },
    {
      "cell_type": "code",
      "source": [
        "news_df = news_df.head(15000) # take the first 15000 entries."
      ],
      "metadata": {
        "id": "b70-2khE3eva"
      },
      "execution_count": null,
      "outputs": []
    },
    {
      "cell_type": "code",
      "source": [
        "news_df.shape"
      ],
      "metadata": {
        "colab": {
          "base_uri": "https://localhost:8080/"
        },
        "id": "gOFbJ6qn3lkt",
        "outputId": "944395c3-b384-47a1-fbb4-848aadc7b5d8"
      },
      "execution_count": null,
      "outputs": [
        {
          "output_type": "execute_result",
          "data": {
            "text/plain": [
              "(15000, 6)"
            ]
          },
          "metadata": {},
          "execution_count": 15
        }
      ]
    },
    {
      "cell_type": "code",
      "source": [
        "try:\n",
        "  news_df = news_df.title\n",
        "  news_df.head()\n",
        "except:\n",
        "  news_df.head()\n"
      ],
      "metadata": {
        "id": "i7zBTarf448x"
      },
      "execution_count": null,
      "outputs": []
    },
    {
      "cell_type": "code",
      "source": [
        "from nltk.corpus import stopwords\n",
        "from nltk.tokenize import word_tokenize\n",
        "from nltk.stem import WordNetLemmatizer\n",
        "import nltk\n",
        "import string\n",
        "nltk.download(\"punkt\")\n",
        "nltk.download(\"stopwords\")\n",
        "nltk.download(\"wordnet\")"
      ],
      "metadata": {
        "colab": {
          "base_uri": "https://localhost:8080/"
        },
        "id": "80o05jFA4-_Q",
        "outputId": "31bf86a2-857c-49be-c635-fa05b33dcbd2"
      },
      "execution_count": null,
      "outputs": [
        {
          "output_type": "stream",
          "name": "stderr",
          "text": [
            "[nltk_data] Downloading package punkt to /root/nltk_data...\n",
            "[nltk_data]   Unzipping tokenizers/punkt.zip.\n",
            "[nltk_data] Downloading package stopwords to /root/nltk_data...\n",
            "[nltk_data]   Unzipping corpora/stopwords.zip.\n",
            "[nltk_data] Downloading package wordnet to /root/nltk_data...\n"
          ]
        },
        {
          "output_type": "execute_result",
          "data": {
            "text/plain": [
              "True"
            ]
          },
          "metadata": {},
          "execution_count": 17
        }
      ]
    },
    {
      "cell_type": "code",
      "source": [
        "def normalize(text): #text = text in only one document\n",
        "  text = text.lower()\n",
        "  text = text.translate(str.maketrans('', '', string.punctuation)) # remove all punctuations (universal way)\n",
        "\n",
        "  tokens = word_tokenize(text) # breaks text up into [\"a\", \"b\", \"c\", etc... ] format if the text is \"a b c etc...\"\n",
        "  filter_tokens = [word for word in tokens\n",
        "                   if word not in stopwords.words(\"english\")\n",
        "                   and word.isalpha() # no digits\n",
        "                   and len(word) > 3]\n",
        "\n",
        "  lemmatizer = WordNetLemmatizer() # create the lemmatizer object to so I can call this method later.\n",
        "  normalize = [lemmatizer.lemmatize(word) for word in filter_tokens]\n",
        "  return \" \".join(normalize)\n",
        "\n"
      ],
      "metadata": {
        "id": "EmNnfdsw5AJY"
      },
      "execution_count": null,
      "outputs": []
    },
    {
      "cell_type": "code",
      "source": [
        "from collections import Counter\n",
        "\n",
        "def genTfidf(texts, wordcountthreshold = 3):\n",
        "  #texts = list of all documents where each item is the text of document.\n",
        "  #wordcountthreshold = how many times a word appears across all documents. Not frequency of the word within a document.\n",
        "  normalize_docs = [normalize(doc) for doc in texts]\n",
        "  all_words = [word for doc in normalize_docs for word in word_tokenize(doc)] # get a list of all words in each tokenized document\n",
        "\n",
        "  counts = Counter(all_words)\n",
        "\n",
        "  filtered_docs = [] # this is the same as all_words except we take into account wordcountthreshold=3.\n",
        "  for doc in normalize_docs:\n",
        "    tokens = word_tokenize(doc)\n",
        "    filter_tokens = [word for word in tokens\n",
        "                     if counts[word] > wordcountthreshold]\n",
        "    filtered_docs.append(\" \".join(filter_tokens))\n",
        "\n",
        "  vectorizer = TfidfVectorizer() # create an instance of TfidVectorizer matrix. Every row is a document index and every column is a term in the corpus.\n",
        "  matrix = vectorizer.fit_transform(filtered_docs)\n",
        "\n",
        "  df = pd.DataFrame(matrix.toarray(), columns=vectorizer.get_feature_names_out())\n",
        "  # vectorizer.get_feature_names_out() returns a list of strings where each string is a unique word in vectorizer, and vectorizer is a TfIdfVectorizer matrix\n",
        "  # of filtered_docs. Now filtered_docs are words in all documents that are either longer than 3 letters (len(word)>3) or appear more than three times in\n",
        "  # three different documents\n",
        "  return df\n"
      ],
      "metadata": {
        "id": "Mh_bMYwy8ZiA"
      },
      "execution_count": null,
      "outputs": []
    },
    {
      "cell_type": "code",
      "source": [
        "documents = news_df.tolist()"
      ],
      "metadata": {
        "id": "QfHHRVh8-GVD"
      },
      "execution_count": null,
      "outputs": []
    },
    {
      "cell_type": "code",
      "source": [
        "tfidf_df = genTfidf(documents)"
      ],
      "metadata": {
        "id": "ZOu4i5jv_YWi"
      },
      "execution_count": null,
      "outputs": []
    },
    {
      "cell_type": "code",
      "source": [
        "tfidf_df.shape # 15000 is the number of documents, 4353 is the number of unique words that satisfy the conditions of genTfidf."
      ],
      "metadata": {
        "colab": {
          "base_uri": "https://localhost:8080/"
        },
        "id": "FGVmYtwQ_kJZ",
        "outputId": "c07bd5b1-28fe-42b0-81f8-34b1bd442f94"
      },
      "execution_count": null,
      "outputs": [
        {
          "output_type": "execute_result",
          "data": {
            "text/plain": [
              "(15000, 4353)"
            ]
          },
          "metadata": {},
          "execution_count": 22
        }
      ]
    },
    {
      "cell_type": "code",
      "source": [
        "similarity = cosine_similarity(tfidf_df)"
      ],
      "metadata": {
        "id": "6J1t9xTJP797"
      },
      "execution_count": null,
      "outputs": []
    },
    {
      "cell_type": "code",
      "source": [
        "np_matrix = tfidf_df.to_numpy()\n",
        "similarity = cosine_similarity(tfidf_df)\n",
        "np.fill_diagonal(similarity, np.nan) # ignoring self-similarity, replacing all pivots with \"nan\" (not a number)\n",
        "\n",
        "most_doc1_index, most_doc2_index = np.unravel_index(np.nanargmax(similarity), similarity.shape)\n",
        "least_doc1_index, least_doc2_index = np.unravel_index(np.nanargmin(similarity), similarity.shape)\n"
      ],
      "metadata": {
        "id": "iuDm8xkX_2Zf"
      },
      "execution_count": null,
      "outputs": []
    },
    {
      "cell_type": "markdown",
      "source": [
        "We pass similarity.shape into np.unravel_index because that method needs to know the array shape in order to translate the 1D index back into the appropriate 2D row,col indexes.\n",
        "\n",
        "For example, say np.nanargmax returned index 5:\n",
        "\n",
        "np.unravel_index needs to know number of rows and columns to turn 5 back into (row=1, col=2).\n",
        "\n",
        "Without passing the shape in, it wouldn't know if 5 maps to a (10x10), (100x5) or some other shape array.\n",
        "\n",
        "So in summary, we pass in similarity.shape so unravel_index can properly translate the 1D index from nanargmax into the right 2D row,col indexes within the similarity matrix."
      ],
      "metadata": {
        "id": "3yT9H4_ggZns"
      }
    },
    {
      "cell_type": "code",
      "source": [
        "print(documents[most_doc1_index], \"\\n\", documents[most_doc2_index])"
      ],
      "metadata": {
        "colab": {
          "base_uri": "https://localhost:8080/"
        },
        "id": "f2ujcmcDa77v",
        "outputId": "1556c4cd-a058-419f-d705-41d65cdbd8a2"
      },
      "execution_count": null,
      "outputs": [
        {
          "output_type": "stream",
          "name": "stdout",
          "text": [
            "Apple TV+ to Launch First Discounted Video Content Bundle \n",
            " Apple TV+ to Launch First Discounted Video Content Bundle\n"
          ]
        }
      ]
    },
    {
      "cell_type": "code",
      "source": [
        "print(documents[least_doc1_index], \"\\n\", documents[least_doc2_index])"
      ],
      "metadata": {
        "colab": {
          "base_uri": "https://localhost:8080/"
        },
        "id": "0343yOD0bBuK",
        "outputId": "193848fd-5e9e-4747-a525-4ead76f38002"
      },
      "execution_count": null,
      "outputs": [
        {
          "output_type": "stream",
          "name": "stdout",
          "text": [
            "A closer look at water-splitting's solar fuel potential \n",
            " An irresistible scent makes locusts swarm, study finds\n"
          ]
        }
      ]
    },
    {
      "cell_type": "markdown",
      "source": [
        "# Now let's apply K-Means Algorithm to the dataset"
      ],
      "metadata": {
        "id": "FUdx4oylhx8N"
      }
    },
    {
      "cell_type": "code",
      "source": [
        "from sklearn.cluster import KMeans\n",
        "import matplotlib.pyplot as plt"
      ],
      "metadata": {
        "id": "qya_bI7Zh29p"
      },
      "execution_count": null,
      "outputs": []
    },
    {
      "cell_type": "code",
      "source": [
        "wcss = []\n",
        "for i in range(1, 11):\n",
        "  kmeans = KMeans(n_clusters = i, init=\"k-means++\", max_iter = 500, random_state=2)\n",
        "  kmeans.fit(tfidf_df)\n",
        "  wcss.append(kmeans.inertia_)\n",
        "\n",
        "\n",
        "print(wcss)"
      ],
      "metadata": {
        "colab": {
          "base_uri": "https://localhost:8080/"
        },
        "id": "oarY9MZUiBwH",
        "outputId": "d3744dd8-06ac-4f27-96fa-3284aaae5b12"
      },
      "execution_count": null,
      "outputs": [
        {
          "output_type": "stream",
          "name": "stderr",
          "text": [
            "/usr/local/lib/python3.10/dist-packages/sklearn/cluster/_kmeans.py:870: FutureWarning: The default value of `n_init` will change from 10 to 'auto' in 1.4. Set the value of `n_init` explicitly to suppress the warning\n",
            "  warnings.warn(\n",
            "/usr/local/lib/python3.10/dist-packages/sklearn/cluster/_kmeans.py:870: FutureWarning: The default value of `n_init` will change from 10 to 'auto' in 1.4. Set the value of `n_init` explicitly to suppress the warning\n",
            "  warnings.warn(\n",
            "/usr/local/lib/python3.10/dist-packages/sklearn/cluster/_kmeans.py:870: FutureWarning: The default value of `n_init` will change from 10 to 'auto' in 1.4. Set the value of `n_init` explicitly to suppress the warning\n",
            "  warnings.warn(\n",
            "/usr/local/lib/python3.10/dist-packages/sklearn/cluster/_kmeans.py:870: FutureWarning: The default value of `n_init` will change from 10 to 'auto' in 1.4. Set the value of `n_init` explicitly to suppress the warning\n",
            "  warnings.warn(\n",
            "/usr/local/lib/python3.10/dist-packages/sklearn/cluster/_kmeans.py:870: FutureWarning: The default value of `n_init` will change from 10 to 'auto' in 1.4. Set the value of `n_init` explicitly to suppress the warning\n",
            "  warnings.warn(\n",
            "/usr/local/lib/python3.10/dist-packages/sklearn/cluster/_kmeans.py:870: FutureWarning: The default value of `n_init` will change from 10 to 'auto' in 1.4. Set the value of `n_init` explicitly to suppress the warning\n",
            "  warnings.warn(\n",
            "/usr/local/lib/python3.10/dist-packages/sklearn/cluster/_kmeans.py:870: FutureWarning: The default value of `n_init` will change from 10 to 'auto' in 1.4. Set the value of `n_init` explicitly to suppress the warning\n",
            "  warnings.warn(\n",
            "/usr/local/lib/python3.10/dist-packages/sklearn/cluster/_kmeans.py:870: FutureWarning: The default value of `n_init` will change from 10 to 'auto' in 1.4. Set the value of `n_init` explicitly to suppress the warning\n",
            "  warnings.warn(\n",
            "/usr/local/lib/python3.10/dist-packages/sklearn/cluster/_kmeans.py:870: FutureWarning: The default value of `n_init` will change from 10 to 'auto' in 1.4. Set the value of `n_init` explicitly to suppress the warning\n",
            "  warnings.warn(\n",
            "/usr/local/lib/python3.10/dist-packages/sklearn/cluster/_kmeans.py:870: FutureWarning: The default value of `n_init` will change from 10 to 'auto' in 1.4. Set the value of `n_init` explicitly to suppress the warning\n",
            "  warnings.warn(\n"
          ]
        },
        {
          "output_type": "stream",
          "name": "stdout",
          "text": [
            "[14900.762830657248, 14812.308104232157, 14760.424786303494, 14721.135141196562, 14675.894942584553, 14638.96339978531, 14593.486365224835, 14581.408010934112, 14564.818458343569, 14531.879420695223]\n"
          ]
        }
      ]
    },
    {
      "cell_type": "markdown",
      "source": [
        "###for kmeans.inertia_, inertia measures the sum of the distances between each data point and its nearest cluster center. Lower inertia indicates the clusters are compact and highly separated. Higher inertia indicates the clusters are more diffuse/overlapping."
      ],
      "metadata": {
        "id": "8JcOf7oY6Txx"
      }
    },
    {
      "cell_type": "code",
      "source": [
        "plt.plot(range(1, 11), wcss)\n",
        "plt.xticks(range(1,11))\n",
        "plt.show() # y axis = WCSS | x axis = k (# of clusters)"
      ],
      "metadata": {
        "id": "W-NqKlTIjhJ5",
        "colab": {
          "base_uri": "https://localhost:8080/",
          "height": 430
        },
        "outputId": "c69d0a1d-c695-46f7-c1c1-f866fba882bb"
      },
      "execution_count": null,
      "outputs": [
        {
          "output_type": "display_data",
          "data": {
            "text/plain": [
              "<Figure size 640x480 with 1 Axes>"
            ],
            "image/png": "[encoded data removed]"
          },
          "metadata": {}
        }
      ]
    },
    {
      "cell_type": "code",
      "source": [
        "# clear elbow at around 7, 8. We'll try n_clusters = 8\n",
        "kmeans = KMeans(n_clusters = 8, init=\"k-means++\", max_iter = 500, random_state=2)\n",
        "predictions = kmeans.fit_predict(tfidf_df)"
      ],
      "metadata": {
        "id": "o2om5DpAktIS",
        "colab": {
          "base_uri": "https://localhost:8080/"
        },
        "outputId": "45bd8963-4e2f-48f5-bcf6-1fa3ea5bdc40"
      },
      "execution_count": null,
      "outputs": [
        {
          "output_type": "stream",
          "name": "stderr",
          "text": [
            "/usr/local/lib/python3.10/dist-packages/sklearn/cluster/_kmeans.py:870: FutureWarning: The default value of `n_init` will change from 10 to 'auto' in 1.4. Set the value of `n_init` explicitly to suppress the warning\n",
            "  warnings.warn(\n"
          ]
        }
      ]
    },
    {
      "cell_type": "code",
      "source": [
        "tfidf_df[\"label\"] = predictions"
      ],
      "metadata": {
        "id": "CH010AiAl6i8"
      },
      "execution_count": null,
      "outputs": []
    },
    {
      "cell_type": "code",
      "source": [
        "predictions # the number corresponds to which cluster that value belongs to."
      ],
      "metadata": {
        "id": "dvPn5a_Onf_l",
        "colab": {
          "base_uri": "https://localhost:8080/"
        },
        "outputId": "b4576348-9c0d-46d6-af30-76fc3577c148"
      },
      "execution_count": null,
      "outputs": [
        {
          "output_type": "execute_result",
          "data": {
            "text/plain": [
              "array([1, 1, 1, ..., 2, 5, 1], dtype=int32)"
            ]
          },
          "metadata": {},
          "execution_count": 32
        }
      ]
    },
    {
      "cell_type": "code",
      "source": [
        "tfidf_df.label.value_counts() # we can see that cluster 0 has the most values."
      ],
      "metadata": {
        "id": "ti1FZ7yVmQ9T",
        "colab": {
          "base_uri": "https://localhost:8080/"
        },
        "outputId": "80c5492f-829f-40fb-a7aa-eb73cc9ce425"
      },
      "execution_count": null,
      "outputs": [
        {
          "output_type": "execute_result",
          "data": {
            "text/plain": [
              "1    11336\n",
              "2     1139\n",
              "6      802\n",
              "0      500\n",
              "7      346\n",
              "3      335\n",
              "5      333\n",
              "4      209\n",
              "Name: label, dtype: int64"
            ]
          },
          "metadata": {},
          "execution_count": 33
        }
      ]
    },
    {
      "cell_type": "code",
      "source": [
        "tfidf_df.columns"
      ],
      "metadata": {
        "id": "wcg6nTWypdsJ",
        "colab": {
          "base_uri": "https://localhost:8080/"
        },
        "outputId": "9d3a31cf-d44f-4815-f69c-22e6df01da02"
      },
      "execution_count": null,
      "outputs": [
        {
          "output_type": "execute_result",
          "data": {
            "text/plain": [
              "Index(['abandoned', 'aberdeen', 'ability', 'able', 'aboard', 'abort', 'abroad',\n",
              "       'absolute', 'abuse', 'academic',\n",
              "       ...\n",
              "       'zelda', 'zephyrus', 'zero', 'zeroday', 'zimbabwe', 'zimbabwean',\n",
              "       'zombie', 'zone', 'zoom', 'zydus'],\n",
              "      dtype='object', length=4353)"
            ]
          },
          "metadata": {},
          "execution_count": 34
        }
      ]
    },
    {
      "cell_type": "code",
      "source": [
        "from sklearn.metrics import pairwise_distances_argmin_min\n",
        "\n",
        "centroids = kmeans.cluster_centers_\n",
        "\n",
        "\n",
        "closest_points = []\n",
        "for i in range(8):\n",
        "    distances = np.linalg.norm(tfidf_df[kmeans.labels_ == i] - centroids[i], axis=1)\n",
        "    closest_point_index = np.argmin(distances)\n",
        "    closest_point = tfidf_df[kmeans.labels_ == i].iloc[closest_point_index]\n",
        "    closest_points.append(closest_point)\n",
        "\n",
        "\n",
        "print(closest_points)"
      ],
      "metadata": {
        "id": "NZDHJPBEmUPt",
        "colab": {
          "base_uri": "https://localhost:8080/"
        },
        "outputId": "0cbf6830-8700-429b-e1ab-131dee4fc340"
      },
      "execution_count": null,
      "outputs": [
        {
          "output_type": "stream",
          "name": "stdout",
          "text": [
            "[abandoned     0.0\n",
            "aberdeen      0.0\n",
            "ability       0.0\n",
            "able          0.0\n",
            "aboard        0.0\n",
            "             ... \n",
            "zimbabwean    0.0\n",
            "zombie        0.0\n",
            "zone          0.0\n",
            "zoom          0.0\n",
            "zydus         0.0\n",
            "Name: 3289, Length: 4353, dtype: float64, abandoned     0.0\n",
            "aberdeen      0.0\n",
            "ability       0.0\n",
            "able          0.0\n",
            "aboard        0.0\n",
            "             ... \n",
            "zimbabwean    0.0\n",
            "zombie        0.0\n",
            "zone          0.0\n",
            "zoom          0.0\n",
            "zydus         0.0\n",
            "Name: 163, Length: 4353, dtype: float64, abandoned     0.0\n",
            "aberdeen      0.0\n",
            "ability       0.0\n",
            "able          0.0\n",
            "aboard        0.0\n",
            "             ... \n",
            "zimbabwean    0.0\n",
            "zombie        0.0\n",
            "zone          0.0\n",
            "zoom          0.0\n",
            "zydus         0.0\n",
            "Name: 12968, Length: 4353, dtype: float64, abandoned     0.0\n",
            "aberdeen      0.0\n",
            "ability       0.0\n",
            "able          0.0\n",
            "aboard        0.0\n",
            "             ... \n",
            "zimbabwean    0.0\n",
            "zombie        0.0\n",
            "zone          0.0\n",
            "zoom          0.0\n",
            "zydus         0.0\n",
            "Name: 8577, Length: 4353, dtype: float64, abandoned     0.0\n",
            "aberdeen      0.0\n",
            "ability       0.0\n",
            "able          0.0\n",
            "aboard        0.0\n",
            "             ... \n",
            "zimbabwean    0.0\n",
            "zombie        0.0\n",
            "zone          0.0\n",
            "zoom          0.0\n",
            "zydus         0.0\n",
            "Name: 5734, Length: 4353, dtype: float64, abandoned     0.0\n",
            "aberdeen      0.0\n",
            "ability       0.0\n",
            "able          0.0\n",
            "aboard        0.0\n",
            "             ... \n",
            "zimbabwean    0.0\n",
            "zombie        0.0\n",
            "zone          0.0\n",
            "zoom          0.0\n",
            "zydus         0.0\n",
            "Name: 12738, Length: 4353, dtype: float64, abandoned     0.0\n",
            "aberdeen      0.0\n",
            "ability       0.0\n",
            "able          0.0\n",
            "aboard        0.0\n",
            "             ... \n",
            "zimbabwean    0.0\n",
            "zombie        0.0\n",
            "zone          0.0\n",
            "zoom          0.0\n",
            "zydus         0.0\n",
            "Name: 7481, Length: 4353, dtype: float64, abandoned     0.0\n",
            "aberdeen      0.0\n",
            "ability       0.0\n",
            "able          0.0\n",
            "aboard        0.0\n",
            "             ... \n",
            "zimbabwean    0.0\n",
            "zombie        0.0\n",
            "zone          0.0\n",
            "zoom          0.0\n",
            "zydus         0.0\n",
            "Name: 473, Length: 4353, dtype: float64]\n"
          ]
        }
      ]
    },
    {
      "cell_type": "code",
      "source": [
        "print(document[3289], document[163], document[12968], document[8577], document[5734], document[12738], document[7481], document[473])"
      ],
      "metadata": {
        "id": "XxVJK-XVoWwD",
        "colab": {
          "base_uri": "https://localhost:8080/",
          "height": 179
        },
        "outputId": "e6c959a1-cfae-4998-ba74-e1a38a7d88e9"
      },
      "execution_count": null,
      "outputs": [
        {
          "output_type": "error",
          "ename": "NameError",
          "evalue": "ignored",
          "traceback": [
            "\u001b[0;31m---------------------------------------------------------------------------\u001b[0m",
            "\u001b[0;31mNameError\u001b[0m                                 Traceback (most recent call last)",
            "\u001b[0;32m<ipython-input-36-f9feeb9a1b9d>\u001b[0m in \u001b[0;36m<cell line: 1>\u001b[0;34m()\u001b[0m\n\u001b[0;32m----> 1\u001b[0;31m \u001b[0mprint\u001b[0m\u001b[0;34m(\u001b[0m\u001b[0mclosest\u001b[0m\u001b[0;34m)\u001b[0m\u001b[0;34m\u001b[0m\u001b[0;34m\u001b[0m\u001b[0m\n\u001b[0m",
            "\u001b[0;31mNameError\u001b[0m: name 'closest' is not defined"
          ]
        }
      ]
    }
  ]
}